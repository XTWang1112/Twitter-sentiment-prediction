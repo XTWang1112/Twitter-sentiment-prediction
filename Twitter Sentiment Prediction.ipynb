{
 "cells": [
  {
   "cell_type": "markdown",
   "id": "abf1c71c",
   "metadata": {},
   "source": [
    "# Preprocessing"
   ]
  },
  {
   "cell_type": "code",
   "execution_count": 1,
   "id": "ae8e4e9d",
   "metadata": {},
   "outputs": [],
   "source": [
    "import pandas as pd"
   ]
  },
  {
   "cell_type": "code",
   "execution_count": 2,
   "id": "3cd8dd2b",
   "metadata": {},
   "outputs": [],
   "source": [
    "train_data = pd.read_csv(\"Train.csv\", sep=',')\n",
    "test_data = pd.read_csv(\"Test.csv\", sep=',')"
   ]
  },
  {
   "cell_type": "code",
   "execution_count": 3,
   "id": "72db7a24",
   "metadata": {},
   "outputs": [
    {
     "name": "stdout",
     "output_type": "stream",
     "text": [
      "Train length: 21802\n",
      "Test length: 6099\n"
     ]
    }
   ],
   "source": [
    "#separating instance and label for Train\n",
    "X_train_raw = [x[0] for x in train_data[['text']].values]\n",
    "Y_train = [x[0] for x in train_data[['sentiment']].values]\n",
    "\n",
    "#check the result\n",
    "print(\"Train length:\",len(X_train_raw))\n",
    "\n",
    "#separating instance and label for Test\n",
    "X_test_raw = [x[0] for x in test_data[['text']].values]\n",
    "\n",
    "#check the result\n",
    "print(\"Test length:\",len(X_test_raw))"
   ]
  },
  {
   "cell_type": "code",
   "execution_count": 4,
   "id": "89e199fc",
   "metadata": {},
   "outputs": [
    {
     "name": "stdout",
     "output_type": "stream",
     "text": [
      " is anybody going to the radio station tomorrow to see shawn? me and my friend may go but we would like to make new friends/meet there (:\t\n"
     ]
    }
   ],
   "source": [
    "#Let's see one example tweet\n",
    "print(X_train_raw[1])"
   ]
  },
  {
   "cell_type": "markdown",
   "id": "610808c5",
   "metadata": {},
   "source": [
    "## Data cleaning"
   ]
  },
  {
   "cell_type": "code",
   "execution_count": 5,
   "id": "58060044",
   "metadata": {},
   "outputs": [],
   "source": [
    "import unidecode\n",
    "import contractions\n",
    "import string\n",
    "from bs4 import BeautifulSoup\n",
    "import nltk\n",
    "#nltk.download()\n",
    "from nltk.corpus import stopwords\n",
    "\n",
    "from nltk.corpus import wordnet\n",
    "\n",
    "from nltk.tokenize import word_tokenize\n",
    "from nltk.stem.wordnet import WordNetLemmatizer"
   ]
  },
  {
   "cell_type": "code",
   "execution_count": 6,
   "id": "abf3a5d1",
   "metadata": {},
   "outputs": [],
   "source": [
    "X_train_clean = []\n",
    "\n",
    "\n",
    "table = str.maketrans('', '', string.digits)\n",
    "\n",
    "stop_words = set(stopwords.words('english'))\n",
    "\n",
    "lemma = WordNetLemmatizer()\n",
    "\n",
    "\n",
    "for i in range (len(X_train_raw)):\n",
    "    #remove unnacessary symbles\n",
    "    soup = BeautifulSoup(X_train_raw[i], \"html.parser\")\n",
    "    temp = soup.get_text(separator=\" \")\n",
    "    \n",
    "    #remove accented characters\n",
    "    temp = unidecode.unidecode(temp)\n",
    "    \n",
    "    #remove contractions\n",
    "    temp = contractions.fix(temp)\n",
    "\n",
    "    #remove number\n",
    "    temp = temp.translate(table)\n",
    "    \n",
    "    #remove punctuations\n",
    "    temp = temp.translate(str.maketrans(string.punctuation, ' '*len(string.punctuation)))\n",
    "\n",
    "    #remove stop words\n",
    "    word_tokens = word_tokenize(temp)\n",
    "    filtered_sentence = []\n",
    "    for w in word_tokens:\n",
    "        if w not in stop_words:\n",
    "            filtered_sentence.append(w)\n",
    "            \n",
    "    temp = \" \".join(filtered_sentence)\n",
    "    \n",
    "    \n",
    "    #lemmatization\n",
    "    def pos_tagger(nltk_tag):\n",
    "        if nltk_tag.startswith('J'):\n",
    "            return wordnet.ADJ\n",
    "        elif nltk_tag.startswith('V'):\n",
    "            return wordnet.VERB\n",
    "        elif nltk_tag.startswith('N'):\n",
    "            return wordnet.NOUN\n",
    "        elif nltk_tag.startswith('R'):\n",
    "            return wordnet.ADV\n",
    "        else:         \n",
    "            return None\n",
    "        \n",
    "    pos_tagged = nltk.pos_tag(nltk.word_tokenize(temp)) \n",
    "    wordnet_tagged = list(map(lambda x: (x[0], pos_tagger(x[1])), pos_tagged))\n",
    "    lemmatized= []\n",
    "    for word, tag in wordnet_tagged:\n",
    "        if tag is None:\n",
    "            lemmatized.append(word)\n",
    "        else:       \n",
    "            lemmatized.append(lemma.lemmatize(word, tag))\n",
    "    temp = \" \".join(lemmatized)\n",
    "    \n",
    "    \n",
    "    #remove extra space\n",
    "    temp = \" \".join(temp.strip().split())\n",
    "    \n",
    "    #conver to lower\n",
    "    temp = temp.lower()\n",
    "    \n",
    "    X_train_clean.append(temp)\n",
    "    "
   ]
  },
  {
   "cell_type": "markdown",
   "id": "55ce587a",
   "metadata": {},
   "source": [
    "## Split data"
   ]
  },
  {
   "cell_type": "markdown",
   "id": "755aa801",
   "metadata": {},
   "source": [
    "### Random hold-out"
   ]
  },
  {
   "cell_type": "code",
   "execution_count": 7,
   "id": "c2deef6e",
   "metadata": {},
   "outputs": [],
   "source": [
    "import numpy as np\n",
    "from sklearn.model_selection import train_test_split"
   ]
  },
  {
   "cell_type": "code",
   "execution_count": 8,
   "id": "4736c1bf",
   "metadata": {},
   "outputs": [
    {
     "data": {
      "text/plain": [
       "6105"
      ]
     },
     "execution_count": 8,
     "metadata": {},
     "output_type": "execute_result"
    }
   ],
   "source": [
    "X_train_sup, X_test_sup, y_train_sup, y_test_sup = train_test_split(X_train_clean, Y_train, test_size = 0.28, random_state = 42)\n",
    "len(X_test_sup)"
   ]
  },
  {
   "cell_type": "markdown",
   "id": "3abb44f7",
   "metadata": {},
   "source": [
    "## Vectorization"
   ]
  },
  {
   "cell_type": "markdown",
   "id": "a5b5136a",
   "metadata": {},
   "source": [
    "### TFIDF"
   ]
  },
  {
   "cell_type": "code",
   "execution_count": 9,
   "id": "1b586c31",
   "metadata": {},
   "outputs": [],
   "source": [
    "from sklearn.feature_extraction.text import TfidfVectorizer"
   ]
  },
  {
   "cell_type": "code",
   "execution_count": 10,
   "id": "2c431d8a",
   "metadata": {},
   "outputs": [
    {
     "name": "stdout",
     "output_type": "stream",
     "text": [
      "Train feature space size (using TFIDF): (15697, 157260)\n",
      "Test feature space size (using TFIDF): (6105, 157260)\n"
     ]
    }
   ],
   "source": [
    "#combine words\n",
    "tfidf_vectorizer2 = TfidfVectorizer(analyzer = 'word', ngram_range = (1, 2))\n",
    "X_train_tfidf2 = tfidf_vectorizer2.fit_transform(X_train_sup)\n",
    "X_test_tfidf2 = tfidf_vectorizer2.transform(X_test_sup)\n",
    "\n",
    "print(\"Train feature space size (using TFIDF):\",X_train_tfidf2.shape)\n",
    "print(\"Test feature space size (using TFIDF):\",X_test_tfidf2.shape)"
   ]
  },
  {
   "cell_type": "code",
   "execution_count": 11,
   "id": "01b9407d",
   "metadata": {},
   "outputs": [
    {
     "name": "stdout",
     "output_type": "stream",
     "text": [
      "Train feature space size (using TFIDF): (15697, 30693)\n",
      "Test feature space size (using TFIDF): (6105, 30693)\n"
     ]
    }
   ],
   "source": [
    "tfidf_vectorizer = TfidfVectorizer(analyzer = 'word')\n",
    "X_train_tfidf = tfidf_vectorizer.fit_transform(X_train_sup)\n",
    "X_test_tfidf = tfidf_vectorizer.transform(X_test_sup)\n",
    "print(\"Train feature space size (using TFIDF):\",X_train_tfidf.shape)\n",
    "print(\"Test feature space size (using TFIDF):\",X_test_tfidf.shape)"
   ]
  },
  {
   "cell_type": "markdown",
   "id": "116180b7",
   "metadata": {},
   "source": [
    "## Feature Selection"
   ]
  },
  {
   "cell_type": "markdown",
   "id": "b41e25e7",
   "metadata": {},
   "source": [
    "### SelectKBest"
   ]
  },
  {
   "cell_type": "code",
   "execution_count": 12,
   "id": "29b8c9ab",
   "metadata": {},
   "outputs": [],
   "source": [
    "from sklearn.feature_selection import SelectKBest, chi2"
   ]
  },
  {
   "cell_type": "code",
   "execution_count": 13,
   "id": "3deb0614",
   "metadata": {},
   "outputs": [
    {
     "name": "stdout",
     "output_type": "stream",
     "text": [
      "(15697, 8000) (6105, 8000)\n"
     ]
    }
   ],
   "source": [
    "selector = SelectKBest(chi2, k = 8000)\n",
    "X_train_select = selector.fit_transform(X_train_tfidf2, y_train_sup)\n",
    "X_test_select = selector.transform(X_test_tfidf2)\n",
    "print(X_train_select.shape, X_test_select.shape)"
   ]
  },
  {
   "cell_type": "markdown",
   "id": "2ef2b9b4",
   "metadata": {},
   "source": [
    "## Modelling"
   ]
  },
  {
   "cell_type": "markdown",
   "id": "66e45437",
   "metadata": {},
   "source": [
    "### plot"
   ]
  },
  {
   "cell_type": "code",
   "execution_count": 14,
   "id": "6a377767",
   "metadata": {},
   "outputs": [],
   "source": [
    "import matplotlib.pyplot as plt\n",
    "import collections\n",
    "import seaborn as sns"
   ]
  },
  {
   "cell_type": "code",
   "execution_count": 15,
   "id": "642339d8",
   "metadata": {},
   "outputs": [
    {
     "data": {
      "image/png": "[encoded data removed]",
      "text/plain": [
       "<Figure size 480x400 with 1 Axes>"
      ]
     },
     "metadata": {},
     "output_type": "display_data"
    }
   ],
   "source": [
    "sns.set_style(\"whitegrid\")\n",
    "\n",
    "plt.figure(figsize=(6,5), dpi=80)\n",
    "cnt = dict(collections.Counter(y_train_sup))\n",
    "lb = ['positive', 'neutral', 'negative']\n",
    "colors = [\"#91a7ff\", \"#748ffc\", \"#5c7cfa\"]\n",
    "data = [cnt[\"positive\"], cnt[\"neutral\"], cnt[\"negative\"]]\n",
    "plt.bar(lb, data, color = colors)\n",
    "plt.xlabel(\"Sentiment\", fontsize = 20)\n",
    "plt.ylabel('Frequency', fontsize = 20)\n",
    "plt.xticks(fontsize = 15)\n",
    "plt.title(\"Lable distribution\", fontsize = 25)\n",
    "plt.show()"
   ]
  },
  {
   "cell_type": "markdown",
   "id": "dd106dfb",
   "metadata": {},
   "source": [
    "### Baseline"
   ]
  },
  {
   "cell_type": "code",
   "execution_count": 16,
   "id": "34520d5d",
   "metadata": {},
   "outputs": [],
   "source": [
    "from sklearn.dummy import DummyClassifier"
   ]
  },
  {
   "cell_type": "code",
   "execution_count": 17,
   "id": "ff21eee8",
   "metadata": {},
   "outputs": [
    {
     "data": {
      "text/plain": [
       "0.5823095823095823"
      ]
     },
     "execution_count": 17,
     "metadata": {},
     "output_type": "execute_result"
    }
   ],
   "source": [
    "dum_clf = DummyClassifier(strategy = \"most_frequent\")\n",
    "dum_md = dum_clf.fit(X_train_select, y_train_sup)\n",
    "dum_md.score(X_test_select, y_test_sup)"
   ]
  },
  {
   "cell_type": "markdown",
   "id": "2c0ebbcc",
   "metadata": {},
   "source": [
    "### Grid Search"
   ]
  },
  {
   "cell_type": "code",
   "execution_count": 18,
   "id": "ca322f26",
   "metadata": {},
   "outputs": [],
   "source": [
    "from sklearn.model_selection import GridSearchCV"
   ]
  },
  {
   "cell_type": "markdown",
   "id": "d3282fab",
   "metadata": {},
   "source": [
    "### Naive Bayese"
   ]
  },
  {
   "cell_type": "code",
   "execution_count": 19,
   "id": "e11b516d",
   "metadata": {},
   "outputs": [],
   "source": [
    "from sklearn.naive_bayes import MultinomialNB\n",
    "from sklearn.model_selection import cross_val_score"
   ]
  },
  {
   "cell_type": "code",
   "execution_count": 20,
   "id": "ca09d7ea",
   "metadata": {},
   "outputs": [],
   "source": [
    "acc_metrics = pd.DataFrame(columns = [\"Train accuracy\", \"Validation accuracy\"], index = [\"Naive bayese\", \"SVM C = 3\",\"SVM C = 1\", \"Stacking\"])"
   ]
  },
  {
   "cell_type": "code",
   "execution_count": 77,
   "id": "4cead469",
   "metadata": {},
   "outputs": [],
   "source": [
    "hyperparams = {\n",
    "    \"alpha\" : [0.5, 1, 1.5, 2],\n",
    "    \"fit_prior\":[True, False],\n",
    "}"
   ]
  },
  {
   "cell_type": "code",
   "execution_count": 78,
   "id": "f1f82789",
   "metadata": {},
   "outputs": [
    {
     "name": "stdout",
     "output_type": "stream",
     "text": [
      "Fitting 5 folds for each of 8 candidates, totalling 40 fits\n"
     ]
    },
    {
     "data": {
      "text/plain": [
       "{'alpha': 0.5, 'fit_prior': True}"
      ]
     },
     "execution_count": 78,
     "metadata": {},
     "output_type": "execute_result"
    }
   ],
   "source": [
    "model = MultinomialNB()\n",
    "grid_search = GridSearchCV(estimator = model, param_grid = hyperparams, cv = 5, n_jobs = -1, verbose = 3)\n",
    "grid_search.fit(X_train_select, y_train_sup)\n",
    "grid_search.best_params_"
   ]
  },
  {
   "cell_type": "code",
   "execution_count": 21,
   "id": "4cb4b7c5",
   "metadata": {},
   "outputs": [],
   "source": [
    "NB_clf = MultinomialNB(alpha=0.5, fit_prior=True)\n",
    "NB_clf.fit(X_train_select, y_train_sup)\n",
    "NB_train_predict = NB_clf.predict(X_train_select)\n",
    "acc_metrics.iloc[0] = [np.mean(y_train_sup==NB_train_predict), np.mean(cross_val_score(NB_clf, X_test_select, y_test_sup, cv=5))]"
   ]
  },
  {
   "cell_type": "markdown",
   "id": "2eb7c8e3",
   "metadata": {},
   "source": [
    "## SVM"
   ]
  },
  {
   "cell_type": "code",
   "execution_count": 22,
   "id": "fe45304d",
   "metadata": {},
   "outputs": [],
   "source": [
    "from sklearn.svm import SVC"
   ]
  },
  {
   "cell_type": "code",
   "execution_count": 62,
   "id": "c51b69ce",
   "metadata": {},
   "outputs": [],
   "source": [
    "hyperparams = {\n",
    "    \"kernel\" : [\"rbf\", \"poly\", \"sigmoid\"],\n",
    "    \"C\": range(1, 10, 1),\n",
    "    \"decision_function_shape\" : [\"ovo\", \"ovr\"]\n",
    "}"
   ]
  },
  {
   "cell_type": "code",
   "execution_count": 63,
   "id": "85c1e636",
   "metadata": {},
   "outputs": [
    {
     "name": "stdout",
     "output_type": "stream",
     "text": [
      "Fitting 5 folds for each of 54 candidates, totalling 270 fits\n"
     ]
    },
    {
     "data": {
      "text/plain": [
       "{'C': 3, 'decision_function_shape': 'ovo', 'kernel': 'rbf'}"
      ]
     },
     "execution_count": 63,
     "metadata": {},
     "output_type": "execute_result"
    }
   ],
   "source": [
    "model = SVC()\n",
    "grid_search = GridSearchCV(estimator = model, param_grid = hyperparams, cv = 5, n_jobs = -1, verbose = 3)\n",
    "grid_search.fit(X_train_select, y_train_sup)\n",
    "grid_search.best_params_"
   ]
  },
  {
   "cell_type": "code",
   "execution_count": 23,
   "id": "898b576a",
   "metadata": {},
   "outputs": [],
   "source": [
    "svm = SVC(kernel = \"rbf\", C = 3, decision_function_shape = 'ovo').fit(X_train_select, y_train_sup)"
   ]
  },
  {
   "cell_type": "code",
   "execution_count": 24,
   "id": "17699f59",
   "metadata": {},
   "outputs": [],
   "source": [
    "train_predict = svm.predict(X_train_select)\n",
    "acc_metrics.iloc[1] = [np.mean(y_train_sup==train_predict), np.mean(cross_val_score(svm, X_test_select, y_test_sup, cv=5))]"
   ]
  },
  {
   "cell_type": "code",
   "execution_count": 25,
   "id": "e96a5b0f",
   "metadata": {},
   "outputs": [],
   "source": [
    "svm = SVC(kernel = \"rbf\", C = 1, decision_function_shape = 'ovo').fit(X_train_select, y_train_sup)\n",
    "svm_train_predict = svm.predict(X_train_select)\n",
    "acc_metrics.iloc[2] = [np.mean(y_train_sup==svm_train_predict), np.mean(cross_val_score(svm, X_test_select, y_test_sup, cv=5))]"
   ]
  },
  {
   "cell_type": "markdown",
   "id": "9545cd40",
   "metadata": {},
   "source": [
    "## Stacking"
   ]
  },
  {
   "cell_type": "code",
   "execution_count": 26,
   "id": "3571292c",
   "metadata": {},
   "outputs": [],
   "source": [
    "from sklearn.ensemble import StackingClassifier\n",
    "from sklearn.linear_model import LogisticRegression"
   ]
  },
  {
   "cell_type": "code",
   "execution_count": 27,
   "id": "1798c08b",
   "metadata": {
    "scrolled": false
   },
   "outputs": [],
   "source": [
    "estimators = [('svm',SVC(kernel = \"rbf\", C = 1, decision_function_shape = 'ovo')),\n",
    "              ('nb', MultinomialNB(alpha=0.5, fit_prior=False))]\n",
    "stack_clf = StackingClassifier(estimators = estimators, final_estimator=LogisticRegression(C=1))\n",
    "stack_clf.fit(X_train_select, y_train_sup)\n",
    "stack_train_predict = stack_clf.predict(X_train_select)\n",
    "acc_metrics.iloc[3] = [np.mean(y_train_sup==stack_train_predict), np.mean(cross_val_score(stack_clf, X_test_select, y_test_sup, cv=5))]"
   ]
  },
  {
   "cell_type": "code",
   "execution_count": 28,
   "id": "dd5a0857",
   "metadata": {},
   "outputs": [
    {
     "data": {
      "text/html": [
       "<div>\n",
       "<style scoped>\n",
       "    .dataframe tbody tr th:only-of-type {\n",
       "        vertical-align: middle;\n",
       "    }\n",
       "\n",
       "    .dataframe tbody tr th {\n",
       "        vertical-align: top;\n",
       "    }\n",
       "\n",
       "    .dataframe thead th {\n",
       "        text-align: right;\n",
       "    }\n",
       "</style>\n",
       "<table border=\"1\" class=\"dataframe\">\n",
       "  <thead>\n",
       "    <tr style=\"text-align: right;\">\n",
       "      <th></th>\n",
       "      <th>Train accuracy</th>\n",
       "      <th>Validation accuracy</th>\n",
       "    </tr>\n",
       "  </thead>\n",
       "  <tbody>\n",
       "    <tr>\n",
       "      <th>Naive bayese</th>\n",
       "      <td>0.644391</td>\n",
       "      <td>0.596724</td>\n",
       "    </tr>\n",
       "    <tr>\n",
       "      <th>SVM C = 3</th>\n",
       "      <td>0.937249</td>\n",
       "      <td>0.639803</td>\n",
       "    </tr>\n",
       "    <tr>\n",
       "      <th>SVM C = 1</th>\n",
       "      <td>0.876027</td>\n",
       "      <td>0.63276</td>\n",
       "    </tr>\n",
       "    <tr>\n",
       "      <th>Stacking</th>\n",
       "      <td>0.870803</td>\n",
       "      <td>0.650778</td>\n",
       "    </tr>\n",
       "  </tbody>\n",
       "</table>\n",
       "</div>"
      ],
      "text/plain": [
       "             Train accuracy Validation accuracy\n",
       "Naive bayese       0.644391            0.596724\n",
       "SVM C = 3          0.937249            0.639803\n",
       "SVM C = 1          0.876027             0.63276\n",
       "Stacking           0.870803            0.650778"
      ]
     },
     "execution_count": 28,
     "metadata": {},
     "output_type": "execute_result"
    }
   ],
   "source": [
    "acc_metrics"
   ]
  },
  {
   "cell_type": "markdown",
   "id": "5b84b9c1",
   "metadata": {},
   "source": [
    "## Evaluation"
   ]
  },
  {
   "cell_type": "code",
   "execution_count": 29,
   "id": "520f8a07",
   "metadata": {},
   "outputs": [],
   "source": [
    "import time\n",
    "from sklearn.metrics import accuracy_score\n",
    "from sklearn.metrics import precision_score\n",
    "from sklearn.metrics import recall_score\n",
    "from sklearn.metrics import f1_score"
   ]
  },
  {
   "cell_type": "code",
   "execution_count": 30,
   "id": "325a9949",
   "metadata": {},
   "outputs": [],
   "source": [
    "eval_metrics = pd.DataFrame(columns = [\"Weighted Precision\", \"Weighted Recall\", \"Weighted F1 Score\", \"Run Time\"], index = [\"Base line\", \"Naive bayese\", \"SVM C=1\", \"Stacking\"])"
   ]
  },
  {
   "cell_type": "markdown",
   "id": "6954e9c1",
   "metadata": {},
   "source": [
    "### Baseline"
   ]
  },
  {
   "cell_type": "code",
   "execution_count": 31,
   "id": "85678e3c",
   "metadata": {},
   "outputs": [
    {
     "name": "stderr",
     "output_type": "stream",
     "text": [
      "/Users/xiaotongwang/opt/anaconda3/lib/python3.8/site-packages/sklearn/metrics/_classification.py:1248: UndefinedMetricWarning: Precision is ill-defined and being set to 0.0 in labels with no predicted samples. Use `zero_division` parameter to control this behavior.\n",
      "  _warn_prf(average, modifier, msg_start, len(result))\n"
     ]
    }
   ],
   "source": [
    "start = time.time()\n",
    "zero_r= DummyClassifier(strategy = \"most_frequent\").fit(X_train_select, y_train_sup)\n",
    "zero_r_time_spent = time.time()-start\n",
    "\n",
    "zero_r_prediction = zero_r.predict(X_test_select)\n",
    "\n",
    "zero_r_wt_pre = precision_score(y_test_sup, zero_r_prediction, average=\"weighted\")\n",
    "\n",
    "zero_r_wt_rec = recall_score(y_test_sup, zero_r_prediction, average=\"weighted\")\n",
    "\n",
    "zero_r_wt_f1 = f1_score(y_test_sup, zero_r_prediction, average=\"weighted\")\n",
    "\n",
    "eval_metrics.iloc[0] = [zero_r_wt_pre,zero_r_wt_rec,zero_r_wt_f1, zero_r_time_spent]"
   ]
  },
  {
   "cell_type": "markdown",
   "id": "f56d09fb",
   "metadata": {},
   "source": [
    "### Naive Bayese"
   ]
  },
  {
   "cell_type": "code",
   "execution_count": 32,
   "id": "97bca5e9",
   "metadata": {},
   "outputs": [],
   "source": [
    "start = time.time()\n",
    "nb = MultinomialNB(alpha=0.5, fit_prior=False).fit(X_train_select, y_train_sup)\n",
    "nb_time_spent = time.time()-start"
   ]
  },
  {
   "cell_type": "code",
   "execution_count": 33,
   "id": "65cfc90d",
   "metadata": {},
   "outputs": [],
   "source": [
    "nb_prediction = nb.predict(X_test_select)\n",
    "\n",
    "nb_wt_pre = precision_score(y_test_sup, nb_prediction, average=\"weighted\")\n",
    "\n",
    "nb_wt_rec = recall_score(y_test_sup, nb_prediction, average=\"weighted\")\n",
    "\n",
    "nb_wt_f1 = f1_score(y_test_sup, nb_prediction, average=\"weighted\")\n",
    "\n",
    "eval_metrics.iloc[1] = [nb_wt_pre,nb_wt_rec,nb_wt_f1, nb_time_spent]"
   ]
  },
  {
   "cell_type": "markdown",
   "id": "8eead6d9",
   "metadata": {},
   "source": [
    "### SVM"
   ]
  },
  {
   "cell_type": "code",
   "execution_count": 34,
   "id": "b38d9d1d",
   "metadata": {},
   "outputs": [],
   "source": [
    "start = time.time()\n",
    "svm = SVC(kernel = \"rbf\", C = 1, decision_function_shape = 'ovo').fit(X_train_select, y_train_sup)\n",
    "svm_time_spent = time.time()-start"
   ]
  },
  {
   "cell_type": "code",
   "execution_count": 35,
   "id": "82e38d4d",
   "metadata": {},
   "outputs": [],
   "source": [
    "svm_prediction = svm.predict(X_test_select)\n",
    "\n",
    "svm_wt_pre = precision_score(y_test_sup, svm_prediction, average=\"weighted\")\n",
    "\n",
    "svm_wt_rec = recall_score(y_test_sup, svm_prediction, average=\"weighted\")\n",
    "\n",
    "svm_wt_f1 = f1_score(y_test_sup, svm_prediction, average=\"weighted\")\n",
    "\n",
    "eval_metrics.iloc[2] = [svm_wt_pre,svm_wt_rec,svm_wt_f1, svm_time_spent]"
   ]
  },
  {
   "cell_type": "markdown",
   "id": "01bca0ef",
   "metadata": {},
   "source": [
    "### Stacking"
   ]
  },
  {
   "cell_type": "code",
   "execution_count": 36,
   "id": "eb1bdab4",
   "metadata": {},
   "outputs": [],
   "source": [
    "start = time.time()\n",
    "stack = StackingClassifier(estimators = estimators, final_estimator=LogisticRegression(C=1)).fit(X_train_select, y_train_sup)\n",
    "stack_time_spent = time.time()-start"
   ]
  },
  {
   "cell_type": "code",
   "execution_count": 37,
   "id": "121c82ad",
   "metadata": {},
   "outputs": [],
   "source": [
    "stack_prediction = stack.predict(X_test_select)\n",
    "\n",
    "stack_wt_pre = precision_score(y_test_sup, stack_prediction, average=\"weighted\")\n",
    "\n",
    "stack_wt_rec = recall_score(y_test_sup, stack_prediction, average=\"weighted\")\n",
    "\n",
    "stack_wt_f1 = f1_score(y_test_sup, stack_prediction, average=\"weighted\")\n",
    "\n",
    "eval_metrics.iloc[3] = [stack_wt_pre,stack_wt_rec,stack_wt_f1, stack_time_spent]"
   ]
  },
  {
   "cell_type": "code",
   "execution_count": 38,
   "id": "9fe84c8e",
   "metadata": {},
   "outputs": [
    {
     "data": {
      "text/html": [
       "<div>\n",
       "<style scoped>\n",
       "    .dataframe tbody tr th:only-of-type {\n",
       "        vertical-align: middle;\n",
       "    }\n",
       "\n",
       "    .dataframe tbody tr th {\n",
       "        vertical-align: top;\n",
       "    }\n",
       "\n",
       "    .dataframe thead th {\n",
       "        text-align: right;\n",
       "    }\n",
       "</style>\n",
       "<table border=\"1\" class=\"dataframe\">\n",
       "  <thead>\n",
       "    <tr style=\"text-align: right;\">\n",
       "      <th></th>\n",
       "      <th>Weighted Precision</th>\n",
       "      <th>Weighted Recall</th>\n",
       "      <th>Weighted F1 Score</th>\n",
       "      <th>Run Time</th>\n",
       "    </tr>\n",
       "  </thead>\n",
       "  <tbody>\n",
       "    <tr>\n",
       "      <th>Base line</th>\n",
       "      <td>0.339084</td>\n",
       "      <td>0.58231</td>\n",
       "      <td>0.428594</td>\n",
       "      <td>0.006948</td>\n",
       "    </tr>\n",
       "    <tr>\n",
       "      <th>Naive bayese</th>\n",
       "      <td>0.622194</td>\n",
       "      <td>0.632924</td>\n",
       "      <td>0.619179</td>\n",
       "      <td>0.01782</td>\n",
       "    </tr>\n",
       "    <tr>\n",
       "      <th>SVM C=1</th>\n",
       "      <td>0.605582</td>\n",
       "      <td>0.562817</td>\n",
       "      <td>0.573731</td>\n",
       "      <td>18.223042</td>\n",
       "    </tr>\n",
       "    <tr>\n",
       "      <th>Stacking</th>\n",
       "      <td>0.626864</td>\n",
       "      <td>0.588206</td>\n",
       "      <td>0.59475</td>\n",
       "      <td>86.263755</td>\n",
       "    </tr>\n",
       "  </tbody>\n",
       "</table>\n",
       "</div>"
      ],
      "text/plain": [
       "             Weighted Precision Weighted Recall Weighted F1 Score   Run Time\n",
       "Base line              0.339084         0.58231          0.428594   0.006948\n",
       "Naive bayese           0.622194        0.632924          0.619179    0.01782\n",
       "SVM C=1                0.605582        0.562817          0.573731  18.223042\n",
       "Stacking               0.626864        0.588206           0.59475  86.263755"
      ]
     },
     "execution_count": 38,
     "metadata": {},
     "output_type": "execute_result"
    }
   ],
   "source": [
    "eval_metrics"
   ]
  },
  {
   "cell_type": "markdown",
   "id": "4b979adb",
   "metadata": {},
   "source": [
    "## Error analysis"
   ]
  },
  {
   "cell_type": "code",
   "execution_count": 39,
   "id": "bbacce29",
   "metadata": {},
   "outputs": [],
   "source": [
    "from sklearn.metrics import plot_confusion_matrix"
   ]
  },
  {
   "cell_type": "code",
   "execution_count": 40,
   "id": "0c15fff1",
   "metadata": {},
   "outputs": [
    {
     "data": {
      "image/png": "[encoded data removed]",
      "text/plain": [
       "<Figure size 432x288 with 2 Axes>"
      ]
     },
     "metadata": {},
     "output_type": "display_data"
    }
   ],
   "source": [
    "plot_confusion_matrix(NB_clf, X_test_select, y_test_sup, cmap=plt.cm.Blues)\n",
    "plt.show()"
   ]
  },
  {
   "cell_type": "code",
   "execution_count": 41,
   "id": "2f67ab32",
   "metadata": {},
   "outputs": [
    {
     "data": {
      "text/plain": [
       "Counter({'neutral': 12659, 'positive': 5428, 'negative': 3715})"
      ]
     },
     "execution_count": 41,
     "metadata": {},
     "output_type": "execute_result"
    }
   ],
   "source": [
    "collections.Counter(train_data[\"sentiment\"])"
   ]
  },
  {
   "cell_type": "code",
   "execution_count": 42,
   "id": "bda1eeff",
   "metadata": {},
   "outputs": [],
   "source": [
    "#remove some neutral labels\n",
    "drop_neutral = []\n",
    "for i in range(len(train_data)):\n",
    "    if len(drop_neutral) == 8944:\n",
    "        break\n",
    "    else:\n",
    "        if train_data.iloc[i][\"sentiment\"] == \"neutral\":\n",
    "            drop_neutral.append(i)\n",
    "            \n",
    "drop_positive = []\n",
    "for i in range(len(train_data)):\n",
    "    if len(drop_positive) == 1713:\n",
    "        break\n",
    "    else:\n",
    "        if train_data.iloc[i][\"sentiment\"] == \"positive\":\n",
    "            drop_positive.append(i)\n",
    "            \n",
    "drop_index = drop_neutral + drop_positive"
   ]
  },
  {
   "cell_type": "code",
   "execution_count": 43,
   "id": "78745fb4",
   "metadata": {},
   "outputs": [],
   "source": [
    "drop_index = sorted(drop_index)"
   ]
  },
  {
   "cell_type": "code",
   "execution_count": 44,
   "id": "7ef6a0f2",
   "metadata": {},
   "outputs": [],
   "source": [
    "feed = train_data.copy()\n",
    "feed = feed.drop(drop_index)"
   ]
  },
  {
   "cell_type": "code",
   "execution_count": 45,
   "id": "c2c4891c",
   "metadata": {},
   "outputs": [
    {
     "data": {
      "text/plain": [
       "Counter({'negative': 3715, 'positive': 3715, 'neutral': 3715})"
      ]
     },
     "execution_count": 45,
     "metadata": {},
     "output_type": "execute_result"
    }
   ],
   "source": [
    "collections.Counter(feed[\"sentiment\"])"
   ]
  },
  {
   "cell_type": "markdown",
   "id": "21edc076",
   "metadata": {},
   "source": [
    "### repeat modelling"
   ]
  },
  {
   "cell_type": "code",
   "execution_count": 46,
   "id": "6f912166",
   "metadata": {},
   "outputs": [
    {
     "name": "stdout",
     "output_type": "stream",
     "text": [
      "Train length: 11145\n",
      "Test length: 6099\n"
     ]
    }
   ],
   "source": [
    "#separating instance and label for Train\n",
    "X_train_raw = [x[0] for x in feed[['text']].values]\n",
    "Y_train = [x[0] for x in feed[['sentiment']].values]\n",
    "\n",
    "#check the result\n",
    "print(\"Train length:\",len(X_train_raw))\n",
    "\n",
    "#separating instance and label for Test\n",
    "X_test_raw = [x[0] for x in test_data[['text']].values]\n",
    "\n",
    "#check the result\n",
    "print(\"Test length:\",len(X_test_raw))\n"
   ]
  },
  {
   "cell_type": "code",
   "execution_count": 47,
   "id": "2b13a95d",
   "metadata": {},
   "outputs": [],
   "source": [
    "X_train_clean = []\n",
    "\n",
    "\n",
    "table = str.maketrans('', '', string.digits)\n",
    "\n",
    "stop_words = set(stopwords.words('english'))\n",
    "\n",
    "lemma = WordNetLemmatizer()\n",
    "\n",
    "\n",
    "for i in range (len(X_train_raw)):\n",
    "    #remove unnacessary symbles\n",
    "    soup = BeautifulSoup(X_train_raw[i], \"html.parser\")\n",
    "    temp = soup.get_text(separator=\" \")\n",
    "    \n",
    "    #remove accented characters\n",
    "    temp = unidecode.unidecode(temp)\n",
    "    \n",
    "    #remove contractions\n",
    "    temp = contractions.fix(temp)\n",
    "\n",
    "    #remove number\n",
    "    temp = temp.translate(table)\n",
    "    \n",
    "    #remove punctuations\n",
    "    temp = temp.translate(str.maketrans(string.punctuation, ' '*len(string.punctuation)))\n",
    "\n",
    "    #remove stop words\n",
    "    word_tokens = word_tokenize(temp)\n",
    "    filtered_sentence = []\n",
    "    for w in word_tokens:\n",
    "        if w not in stop_words:\n",
    "            filtered_sentence.append(w)\n",
    "            \n",
    "    temp = \" \".join(filtered_sentence)\n",
    "    \n",
    "    \n",
    "    #lemmatization\n",
    "    def pos_tagger(nltk_tag):\n",
    "        if nltk_tag.startswith('J'):\n",
    "            return wordnet.ADJ\n",
    "        elif nltk_tag.startswith('V'):\n",
    "            return wordnet.VERB\n",
    "        elif nltk_tag.startswith('N'):\n",
    "            return wordnet.NOUN\n",
    "        elif nltk_tag.startswith('R'):\n",
    "            return wordnet.ADV\n",
    "        else:         \n",
    "            return None\n",
    "        \n",
    "    pos_tagged = nltk.pos_tag(nltk.word_tokenize(temp)) \n",
    "    wordnet_tagged = list(map(lambda x: (x[0], pos_tagger(x[1])), pos_tagged))\n",
    "    lemmatized= []\n",
    "    for word, tag in wordnet_tagged:\n",
    "        if tag is None:\n",
    "            lemmatized.append(word)\n",
    "        else:       \n",
    "            lemmatized.append(lemma.lemmatize(word, tag))\n",
    "    temp = \" \".join(lemmatized)\n",
    "    \n",
    "    \n",
    "    #remove extra space\n",
    "    temp = \" \".join(temp.strip().split())\n",
    "    \n",
    "    #conver to lower\n",
    "    temp = temp.lower()\n",
    "    \n",
    "    X_train_clean.append(temp)\n",
    "    "
   ]
  },
  {
   "cell_type": "code",
   "execution_count": 48,
   "id": "af96c614",
   "metadata": {},
   "outputs": [],
   "source": [
    "X_train_sup, X_test_sup, y_train_sup, y_test_sup = train_test_split(X_train_clean, Y_train, test_size = 0.28, random_state = 42)"
   ]
  },
  {
   "cell_type": "code",
   "execution_count": 49,
   "id": "dc67441a",
   "metadata": {},
   "outputs": [
    {
     "name": "stdout",
     "output_type": "stream",
     "text": [
      "Train feature space size (using TFIDF): (8024, 87205)\n",
      "Test feature space size (using TFIDF): (3121, 87205)\n"
     ]
    }
   ],
   "source": [
    "#combine words\n",
    "tfidf_vectorizer2 = TfidfVectorizer(analyzer = 'word', ngram_range = (1, 2))\n",
    "X_train_tfidf2 = tfidf_vectorizer2.fit_transform(X_train_sup)\n",
    "X_test_tfidf2 = tfidf_vectorizer2.transform(X_test_sup)\n",
    "\n",
    "print(\"Train feature space size (using TFIDF):\",X_train_tfidf2.shape)\n",
    "print(\"Test feature space size (using TFIDF):\",X_test_tfidf2.shape)"
   ]
  },
  {
   "cell_type": "code",
   "execution_count": 50,
   "id": "e94bca81",
   "metadata": {},
   "outputs": [
    {
     "name": "stdout",
     "output_type": "stream",
     "text": [
      "(8024, 8000) (3121, 8000)\n"
     ]
    }
   ],
   "source": [
    "# selector = VarianceThreshold(threshold=0.00001)\n",
    "# X_train_select = selector.fit_transform(X_train_tfidf)\n",
    "# X_test_select = selector.transform(X_test_tfidf)\n",
    "# print(X_train_select.shape, X_test_select.shape)\n",
    "\n",
    "selector = SelectKBest(chi2, k = 8000)\n",
    "X_train_select = selector.fit_transform(X_train_tfidf2, y_train_sup)\n",
    "X_test_select = selector.transform(X_test_tfidf2)\n",
    "print(X_train_select.shape, X_test_select.shape)"
   ]
  },
  {
   "cell_type": "code",
   "execution_count": 52,
   "id": "c6f4582a",
   "metadata": {},
   "outputs": [
    {
     "name": "stdout",
     "output_type": "stream",
     "text": [
      "Fitting 5 folds for each of 8 candidates, totalling 40 fits\n"
     ]
    },
    {
     "data": {
      "text/plain": [
       "{'alpha': 0.5, 'fit_prior': True}"
      ]
     },
     "execution_count": 52,
     "metadata": {},
     "output_type": "execute_result"
    }
   ],
   "source": [
    "#NB \n",
    "hyperparams = {\n",
    "    \"alpha\" : [0.5, 1, 1.5, 2],\n",
    "    \"fit_prior\":[True, False],\n",
    "}\n",
    "\n",
    "model = MultinomialNB()\n",
    "grid_search = GridSearchCV(estimator = model, param_grid = hyperparams, cv = 5, n_jobs = -1, verbose = 3)\n",
    "grid_search.fit(X_train_select, y_train_sup)\n",
    "grid_search.best_params_"
   ]
  },
  {
   "cell_type": "code",
   "execution_count": 53,
   "id": "180ca4d6",
   "metadata": {},
   "outputs": [
    {
     "data": {
      "text/plain": [
       "0.6007689842999039"
      ]
     },
     "execution_count": 53,
     "metadata": {},
     "output_type": "execute_result"
    }
   ],
   "source": [
    "NB_clf = MultinomialNB(alpha=0.5, fit_prior=True)\n",
    "NB_clf.fit(X_train_select, y_train_sup)\n",
    "NB_clf.score(X_test_select, y_test_sup)"
   ]
  },
  {
   "cell_type": "code",
   "execution_count": 54,
   "id": "193eb00b",
   "metadata": {},
   "outputs": [
    {
     "data": {
      "image/png": "[encoded data removed]",
      "text/plain": [
       "<Figure size 432x288 with 2 Axes>"
      ]
     },
     "metadata": {},
     "output_type": "display_data"
    }
   ],
   "source": [
    "plot_confusion_matrix(NB_clf, X_test_select, y_test_sup, cmap=plt.cm.Blues)\n",
    "plt.show()"
   ]
  },
  {
   "cell_type": "markdown",
   "id": "e7213a21",
   "metadata": {},
   "source": [
    "## Prediction"
   ]
  },
  {
   "cell_type": "code",
   "execution_count": 55,
   "id": "cf0c8991",
   "metadata": {},
   "outputs": [],
   "source": [
    "#clean test data\n",
    "X_test_clean = []\n",
    "\n",
    "\n",
    "table = str.maketrans('', '', string.digits)\n",
    "\n",
    "stop_words = set(stopwords.words('english'))\n",
    "\n",
    "lemma = WordNetLemmatizer()\n",
    "\n",
    "\n",
    "for i in range (len(X_test_raw)):\n",
    "    #remove unnacessary symbles\n",
    "    soup = BeautifulSoup(X_test_raw[i], \"html.parser\")\n",
    "    temp = soup.get_text(separator=\" \")\n",
    "    \n",
    "    #remove accented characters\n",
    "    temp = unidecode.unidecode(temp)\n",
    "    \n",
    "    #remove contractions\n",
    "    temp = contractions.fix(temp)\n",
    "\n",
    "    #remove number\n",
    "    temp = temp.translate(table)\n",
    "    \n",
    "    #remove punctuations\n",
    "    temp = temp.translate(str.maketrans(string.punctuation, ' '*len(string.punctuation)))\n",
    "\n",
    "    #remove stop words\n",
    "    word_tokens = word_tokenize(temp)\n",
    "    filtered_sentence = []\n",
    "    for w in word_tokens:\n",
    "        if w not in stop_words:\n",
    "            filtered_sentence.append(w)\n",
    "            \n",
    "    temp = \" \".join(filtered_sentence)\n",
    "    \n",
    "    \n",
    "    #lemmatization\n",
    "    def pos_tagger(nltk_tag):\n",
    "        if nltk_tag.startswith('J'):\n",
    "            return wordnet.ADJ\n",
    "        elif nltk_tag.startswith('V'):\n",
    "            return wordnet.VERB\n",
    "        elif nltk_tag.startswith('N'):\n",
    "            return wordnet.NOUN\n",
    "        elif nltk_tag.startswith('R'):\n",
    "            return wordnet.ADV\n",
    "        else:         \n",
    "            return None\n",
    "        \n",
    "    pos_tagged = nltk.pos_tag(nltk.word_tokenize(temp)) \n",
    "    wordnet_tagged = list(map(lambda x: (x[0], pos_tagger(x[1])), pos_tagged))\n",
    "    lemmatized= []\n",
    "    for word, tag in wordnet_tagged:\n",
    "        if tag is None:\n",
    "            lemmatized.append(word)\n",
    "        else:       \n",
    "            lemmatized.append(lemma.lemmatize(word, tag))\n",
    "    temp = \" \".join(lemmatized)\n",
    "    \n",
    "    \n",
    "    #remove extra space\n",
    "    temp = \" \".join(temp.strip().split())\n",
    "    \n",
    "    #conver to lower\n",
    "    temp = temp.lower()\n",
    "    \n",
    "    X_test_clean.append(temp)\n",
    "    "
   ]
  },
  {
   "cell_type": "code",
   "execution_count": 56,
   "id": "47afb88c",
   "metadata": {},
   "outputs": [
    {
     "name": "stdout",
     "output_type": "stream",
     "text": [
      "Test feature space size (using TFIDF): (6099, 87205)\n",
      "(6099, 8000)\n"
     ]
    }
   ],
   "source": [
    "#vectorize\n",
    "X_test = tfidf_vectorizer2.transform(X_test_clean)\n",
    "\n",
    "\n",
    "print(\"Test feature space size (using TFIDF):\",X_test.shape)\n",
    "\n",
    "#feature select\n",
    "X_test = selector.transform(X_test)\n",
    "print(X_test.shape)"
   ]
  },
  {
   "cell_type": "code",
   "execution_count": 57,
   "id": "9a319857",
   "metadata": {},
   "outputs": [],
   "source": [
    "prediction = NB_clf.predict(X_test)"
   ]
  },
  {
   "cell_type": "code",
   "execution_count": 58,
   "id": "69131529",
   "metadata": {},
   "outputs": [
    {
     "data": {
      "text/plain": [
       "6099"
      ]
     },
     "execution_count": 58,
     "metadata": {},
     "output_type": "execute_result"
    }
   ],
   "source": [
    "len(prediction)"
   ]
  },
  {
   "cell_type": "code",
   "execution_count": 59,
   "id": "73c9b940",
   "metadata": {},
   "outputs": [],
   "source": [
    "result = pd.DataFrame(columns = [\"id\", \"sentiment\"])"
   ]
  },
  {
   "cell_type": "code",
   "execution_count": 60,
   "id": "8c001d75",
   "metadata": {},
   "outputs": [],
   "source": [
    "result[\"id\"] = test_data[\"id\"]\n",
    "result[\"sentiment\"] = prediction"
   ]
  },
  {
   "cell_type": "code",
   "execution_count": 61,
   "id": "5c86832e",
   "metadata": {},
   "outputs": [],
   "source": [
    "result.to_csv(r'result1.csv', index = False, header=True)"
   ]
  },
  {
   "cell_type": "code",
   "execution_count": null,
   "id": "17b7a84e",
   "metadata": {},
   "outputs": [],
   "source": []
  }
 ],
 "metadata": {
  "kernelspec": {
   "display_name": "Python 3",
   "language": "python",
   "name": "python3"
  },
  "language_info": {
   "codemirror_mode": {
    "name": "ipython",
    "version": 3
   },
   "file_extension": ".py",
   "mimetype": "text/x-python",
   "name": "python",
   "nbconvert_exporter": "python",
   "pygments_lexer": "ipython3",
   "version": "3.8.8"
  }
 },
 "nbformat": 4,
 "nbformat_minor": 5
}
